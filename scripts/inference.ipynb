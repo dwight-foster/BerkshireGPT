{
 "cells": [
  {
   "cell_type": "code",
   "execution_count": null,
   "id": "initial_id",
   "metadata": {
    "collapsed": true
   },
   "outputs": [],
   "source": [
    "import torch\n",
    "from transformers import AutoTokenizer, AutoModelForCausalLM, BitsAndBytesConfig, TextStreamer\n",
    "\n",
    "name = \"dwightf/berkshireGPT\"\n",
    "     \n",
    "bnb_config = BitsAndBytesConfig(\n",
    "    load_in_4bit=True,\n",
    "    bnb_4bit_use_double_quant=False,\n",
    "    bnb_4bit_quant_type=\"nf4\",\n",
    "    bnb_4bit_compute_dtype=torch.float16\n",
    ")\n",
    "\n",
    "model = AutoModelForCausalLM.from_pretrained(name, quantization_config=bnb_config)\n",
    "\n",
    "\n",
    "tokenizer = AutoTokenizer.from_pretrained(name, use_fast=True, device_map=\"auto\")\n",
    "\n"
   ]
  },
  {
   "cell_type": "code",
   "outputs": [],
   "source": [
    "while True:\n",
    "    print(\"Type 'quit' to exit\")\n",
    "    question = input(\"Enter question: \")\n",
    "    if question == \"quit\":\n",
    "        break\n",
    "        \n",
    "    eval_prompt = f\"\"\"### Instruction:\n",
    "    You are a value investor giving your advice on stocks. And choosing whether to buy, sell, or hold them.\n",
    "    ### Text:\n",
    "    Q -{question}\n",
    "    \n",
    "    \"\"\"\n",
    "    \n",
    "    model_input = tokenizer(eval_prompt, return_tensors=\"pt\").to(\"cuda\")\n",
    "    streamer = TextStreamer(tokenizer, skip_prompt=True, skip_special_tokens=True)\n",
    "    model.eval()\n",
    "    with torch.no_grad():\n",
    "    \n",
    "        tokenizer.decode(model.generate(**model_input, streamer=streamer,\n",
    "                            use_cache=True, max_new_tokens=float('inf'))[0], skip_special_tokens=True)\n",
    "        "
   ],
   "metadata": {
    "collapsed": false
   },
   "id": "6da81f316c61d159"
  }
 ],
 "metadata": {
  "kernelspec": {
   "display_name": "Python 3",
   "language": "python",
   "name": "python3"
  },
  "language_info": {
   "codemirror_mode": {
    "name": "ipython",
    "version": 2
   },
   "file_extension": ".py",
   "mimetype": "text/x-python",
   "name": "python",
   "nbconvert_exporter": "python",
   "pygments_lexer": "ipython2",
   "version": "2.7.6"
  }
 },
 "nbformat": 4,
 "nbformat_minor": 5
}
