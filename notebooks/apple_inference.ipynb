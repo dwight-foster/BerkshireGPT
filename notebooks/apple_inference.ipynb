{
 "cells": [
  {
   "cell_type": "code",
   "id": "initial_id",
   "metadata": {
    "collapsed": true,
    "ExecuteTime": {
     "end_time": "2024-05-22T19:48:29.548631Z",
     "start_time": "2024-05-22T19:20:58.130305Z"
    }
   },
   "source": [
    "from mlx_lm import load, generate\n",
    "model, tokenizer = load('dwightf/berkshireGPTMLX')"
   ],
   "outputs": [
    {
     "data": {
      "text/plain": [
       "Fetching 8 files:   0%|          | 0/8 [00:00<?, ?it/s]"
      ],
      "application/vnd.jupyter.widget-view+json": {
       "version_major": 2,
       "version_minor": 0,
       "model_id": "d724802729fe43778d432b346b1985b8"
      }
     },
     "metadata": {},
     "output_type": "display_data"
    },
    {
     "data": {
      "text/plain": [
       "model.safetensors.index.json:   0%|          | 0.00/25.1k [00:00<?, ?B/s]"
      ],
      "application/vnd.jupyter.widget-view+json": {
       "version_major": 2,
       "version_minor": 0,
       "model_id": "0ab09dc6d03d4a25b0bd7cc17b1c12d0"
      }
     },
     "metadata": {},
     "output_type": "display_data"
    },
    {
     "data": {
      "text/plain": [
       "config.json:   0%|          | 0.00/688 [00:00<?, ?B/s]"
      ],
      "application/vnd.jupyter.widget-view+json": {
       "version_major": 2,
       "version_minor": 0,
       "model_id": "ffb6e145dacb4c6bb9af173826a4f935"
      }
     },
     "metadata": {},
     "output_type": "display_data"
    },
    {
     "data": {
      "text/plain": [
       "tokenizer_config.json:   0%|          | 0.00/1.87k [00:00<?, ?B/s]"
      ],
      "application/vnd.jupyter.widget-view+json": {
       "version_major": 2,
       "version_minor": 0,
       "model_id": "1bffc893bcda4512aec3cb4b951d719d"
      }
     },
     "metadata": {},
     "output_type": "display_data"
    },
    {
     "data": {
      "text/plain": [
       "special_tokens_map.json:   0%|          | 0.00/551 [00:00<?, ?B/s]"
      ],
      "application/vnd.jupyter.widget-view+json": {
       "version_major": 2,
       "version_minor": 0,
       "model_id": "b028a7632db84bebbcd7cf511fc88719"
      }
     },
     "metadata": {},
     "output_type": "display_data"
    },
    {
     "data": {
      "text/plain": [
       "tokenizer.json:   0%|          | 0.00/1.84M [00:00<?, ?B/s]"
      ],
      "application/vnd.jupyter.widget-view+json": {
       "version_major": 2,
       "version_minor": 0,
       "model_id": "b720fbc22a5d4340babafaa03dc91ee2"
      }
     },
     "metadata": {},
     "output_type": "display_data"
    },
    {
     "data": {
      "text/plain": [
       "model-00003-of-00003.safetensors:   0%|          | 0.00/2.78G [00:00<?, ?B/s]"
      ],
      "application/vnd.jupyter.widget-view+json": {
       "version_major": 2,
       "version_minor": 0,
       "model_id": "f942802f0ef6401ab156b2dbf1bb96f6"
      }
     },
     "metadata": {},
     "output_type": "display_data"
    },
    {
     "data": {
      "text/plain": [
       "model-00001-of-00003.safetensors:   0%|          | 0.00/5.34G [00:00<?, ?B/s]"
      ],
      "application/vnd.jupyter.widget-view+json": {
       "version_major": 2,
       "version_minor": 0,
       "model_id": "2b86c39c0af7439687f78094c6c80546"
      }
     },
     "metadata": {},
     "output_type": "display_data"
    },
    {
     "data": {
      "text/plain": [
       "model-00002-of-00003.safetensors:   0%|          | 0.00/5.35G [00:00<?, ?B/s]"
      ],
      "application/vnd.jupyter.widget-view+json": {
       "version_major": 2,
       "version_minor": 0,
       "model_id": "b7841e1328b246f4b2c552f8d8f0ca53"
      }
     },
     "metadata": {},
     "output_type": "display_data"
    }
   ],
   "execution_count": 1
  },
  {
   "metadata": {
    "ExecuteTime": {
     "end_time": "2024-05-22T19:50:39.840937Z",
     "start_time": "2024-05-22T19:49:53.805342Z"
    }
   },
   "cell_type": "code",
   "source": [
    "while True:\n",
    "    print(\"Type 'quit' to exit\")\n",
    "    question = input(\"Enter question: \")\n",
    "    if question == \"quit\":\n",
    "        break\n",
    "        \n",
    "    eval_prompt = f\"\"\"[INST]<<SYS>>\n",
    "     You are a value investor giving your advice on stocks. And choosing whether to buy, sell, or hold them. \n",
    "    \n",
    "    <</SYS>>\n",
    "    Q -{question}\n",
    "    \n",
    "    [/INST]\n",
    "    \n",
    "    A-\n",
    "    \"\"\"\n",
    "    response = generate(model, tokenizer, prompt=eval_prompt, max_tokens=1000)\n",
    "    print(response)"
   ],
   "id": "33a914e19fb95ce",
   "outputs": [
    {
     "name": "stdout",
     "output_type": "stream",
     "text": [
      "Type 'quit' to exit\n",
      "\n",
      "Value investing is an investment philosophy that focuses on buying stocks at a price that is significantly lower than their intrinsic value. The goal of value investing is to identify companies that are undervalued by the market and have strong fundamentals, such as strong financials, competitive advantages, and growth potential. By buying these undervalued companies, value investors believe they can profit from the eventual recognition of their intrinsic value by the market.\n",
      "\n",
      "Value investors typically use a combination of fundamental analysis and quantitative measures to identify undervalued stocks. They may also use a disciplined approach to buying and selling, such as using stop-loss orders and limiting their exposure to any one stock.\n",
      "\n",
      "Some key principles of value investing include:\n",
      "\n",
      "1. Buying stocks at a price that is significantly lower than their intrinsic value.\n",
      "2. Focusing on companies with strong fundamentals, such as strong financials, competitive advantages, and growth potential.\n",
      "3. Using a disciplined approach to buying and selling, such as using stop-loss orders and limiting exposure to any one stock.\n",
      "4. Being patient and willing to hold onto stocks for the long term, as the market may not always recognize the intrinsic value of a company immediately.\n",
      "\n",
      "Some examples of value investors include Warren Buffett, Benjamin Graham, and Charlie Munger. These investors have made a fortune by following the principles of value investing and identifying undervalued companies with strong fundamentals.\n",
      "\n",
      "In summary, value investing is an investment philosophy that focuses on buying stocks at a price that is significantly lower than their intrinsic value, with the goal of profiting from the eventual recognition of their intrinsic value by the market. It involves using a combination of fundamental analysis and quantitative measures to identify undervalued stocks, and a disciplined approach to buying and selling.\n",
      "Type 'quit' to exit\n"
     ]
    }
   ],
   "execution_count": 4
  },
  {
   "metadata": {},
   "cell_type": "code",
   "outputs": [],
   "execution_count": null,
   "source": "",
   "id": "4c3deff78cdaa423"
  }
 ],
 "metadata": {
  "kernelspec": {
   "display_name": "Python 3",
   "language": "python",
   "name": "python3"
  },
  "language_info": {
   "codemirror_mode": {
    "name": "ipython",
    "version": 2
   },
   "file_extension": ".py",
   "mimetype": "text/x-python",
   "name": "python",
   "nbconvert_exporter": "python",
   "pygments_lexer": "ipython2",
   "version": "2.7.6"
  }
 },
 "nbformat": 4,
 "nbformat_minor": 5
}
